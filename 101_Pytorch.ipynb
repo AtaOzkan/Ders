{
  "nbformat": 4,
  "nbformat_minor": 0,
  "metadata": {
    "colab": {
      "provenance": [],
      "authorship_tag": "ABX9TyNoma6nULPkP1oqJN66CKB+",
      "include_colab_link": true
    },
    "kernelspec": {
      "name": "python3",
      "display_name": "Python 3"
    },
    "language_info": {
      "name": "python"
    }
  },
  "cells": [
    {
      "cell_type": "markdown",
      "metadata": {
        "id": "view-in-github",
        "colab_type": "text"
      },
      "source": [
        "<a href=\"https://colab.research.google.com/github/AtaOzkan/Ders/blob/main/101_Pytorch.ipynb\" target=\"_parent\"><img src=\"https://colab.research.google.com/assets/colab-badge.svg\" alt=\"Open In Colab\"/></a>"
      ]
    },
    {
      "cell_type": "code",
      "source": [
        "import torch\n",
        "import numpy as np"
      ],
      "metadata": {
        "id": "XWgk8sj6YkN-"
      },
      "execution_count": 10,
      "outputs": []
    },
    {
      "cell_type": "code",
      "source": [
        "numpy_array = np.random.rand(3,4)\n",
        "\n",
        "tensor1 = torch.from_numpy(numpy_array)\n",
        "\n",
        "print(tensor1, \"\\n\")\n",
        "\n",
        "tensor2=torch.tensor(numpy_array)\n",
        "print(tensor2)"
      ],
      "metadata": {
        "colab": {
          "base_uri": "https://localhost:8080/"
        },
        "id": "eYw1vkV2ZAs0",
        "outputId": "f8d363cf-232f-435a-d473-7f5f99f4d81c"
      },
      "execution_count": 15,
      "outputs": [
        {
          "output_type": "stream",
          "name": "stdout",
          "text": [
            "tensor([[0.7144, 0.0401, 0.3497, 0.6317],\n",
            "        [0.5995, 0.2155, 0.8267, 0.6726],\n",
            "        [0.8278, 0.3547, 0.3155, 0.5697]], dtype=torch.float64) \n",
            "\n",
            "tensor([[0.7144, 0.0401, 0.3497, 0.6317],\n",
            "        [0.5995, 0.2155, 0.8267, 0.6726],\n",
            "        [0.8278, 0.3547, 0.3155, 0.5697]], dtype=torch.float64)\n"
          ]
        }
      ]
    },
    {
      "cell_type": "code",
      "execution_count": 4,
      "metadata": {
        "colab": {
          "base_uri": "https://localhost:8080/"
        },
        "id": "GyAZbatbW3OH",
        "outputId": "6f20e2c8-0ef3-4d05-dbd8-ef692e3842a5"
      },
      "outputs": [
        {
          "output_type": "stream",
          "name": "stdout",
          "text": [
            "tensor([[ 1.2552, -0.1335, -2.1317,  1.0749,  0.1042],\n",
            "        [-1.3997,  1.8080, -0.0459,  0.1689,  0.4904],\n",
            "        [-0.1698, -0.3652,  0.3795,  1.0802, -0.8292],\n",
            "        [ 0.1400, -0.5683,  0.8871,  0.4694, -0.7793]])\n"
          ]
        }
      ],
      "source": [
        "torch_2d= torch.randn(4,5)\n",
        "print(torch_2d)"
      ]
    },
    {
      "cell_type": "code",
      "source": [
        "torch_arange=torch.arange(5)\n",
        "print(torch_arange)\n",
        "\n",
        "print(\"\")\n",
        "\n",
        "torch_arange=torch.reshape(torch_arange,(5,1))\n",
        "print(torch_arange)\n",
        "\n"
      ],
      "metadata": {
        "colab": {
          "base_uri": "https://localhost:8080/"
        },
        "id": "QTx3sBmSXbzX",
        "outputId": "9f187a03-eb71-4e93-814f-a33d043723d1"
      },
      "execution_count": 7,
      "outputs": [
        {
          "output_type": "stream",
          "name": "stdout",
          "text": [
            "tensor([0, 1, 2, 3, 4])\n",
            "\n",
            "tensor([[0],\n",
            "        [1],\n",
            "        [2],\n",
            "        [3],\n",
            "        [4]])\n"
          ]
        }
      ]
    },
    {
      "cell_type": "code",
      "source": [
        "torch_1= torch.tensor([1,2,3,4])\n",
        "torch_2= torch.tensor([5,6,7,8])\n",
        "\n",
        "a=torch.add(torch_1,torch_2)\n",
        "print(a)\n",
        "\n",
        "print(\"\")\n",
        "\n",
        "b=torch.sub(torch_1,torch_2)\n",
        "print(b)\n",
        "print(\"\")\n",
        "\n",
        "\n",
        "c=torch.mul(torch_1,torch_2)\n",
        "print(c)\n",
        "print(\"\")\n",
        "\n",
        "d=torch.div(torch_1,torch_2)\n",
        "print(d)\n"
      ],
      "metadata": {
        "colab": {
          "base_uri": "https://localhost:8080/"
        },
        "id": "Wqn_Myx7XhRy",
        "outputId": "20a8b4e7-3309-4e7e-aa85-f4af505e96bd"
      },
      "execution_count": 9,
      "outputs": [
        {
          "output_type": "stream",
          "name": "stdout",
          "text": [
            "tensor([ 6,  8, 10, 12])\n",
            "\n",
            "tensor([-4, -4, -4, -4])\n",
            "\n",
            "tensor([ 5, 12, 21, 32])\n",
            "\n",
            "tensor([0.2000, 0.3333, 0.4286, 0.5000])\n"
          ]
        }
      ]
    }
  ]
}